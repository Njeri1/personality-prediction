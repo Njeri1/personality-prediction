{
 "cells": [
  {
   "cell_type": "code",
   "execution_count": 1,
   "metadata": {},
   "outputs": [
    {
     "name": "stderr",
     "output_type": "stream",
     "text": [
      "[nltk_data] Downloading package stopwords to C:\\Users\\ALU\n",
      "[nltk_data]     STUDENT\\AppData\\Roaming\\nltk_data...\n",
      "[nltk_data]   Package stopwords is already up-to-date!\n"
     ]
    }
   ],
   "source": [
    "import numpy as np\n",
    "import pandas as pd\n",
    "import os\n",
    "\n",
    "from sklearn.model_selection import train_test_split\n",
    "\n",
    "import seaborn as sns\n",
    "import matplotlib.pyplot as plt\n",
    "\n",
    "# cleaning and dropping stop words\n",
    "import re\n",
    "import nltk\n",
    "from nltk.corpus import stopwords\n",
    "\n",
    "nltk.download(\"stopwords\")\n",
    "\n",
    "from nltk.stem import WordNetLemmatizer\n",
    "\n",
    "# performance check\n",
    "import time\n"
   ]
  },
  {
   "cell_type": "code",
   "execution_count": 2,
   "metadata": {},
   "outputs": [
    {
     "name": "stdout",
     "output_type": "stream",
     "text": [
      "INFP    1814\n",
      "INFJ    1455\n",
      "INTP    1291\n",
      "INTJ    1080\n",
      "ENTP     678\n",
      "ENFP     668\n",
      "ISTP     334\n",
      "ISFP     268\n",
      "ENTJ     229\n",
      "ISTJ     203\n",
      "ENFJ     188\n",
      "ISFJ     164\n",
      "ESTP      88\n",
      "ESFP      47\n",
      "ESFJ      42\n",
      "ESTJ      39\n",
      "Name: type, dtype: int64\n",
      "INFP    18\n",
      "INFJ    15\n",
      "INTP    13\n",
      "INTJ    11\n",
      "ENTP     7\n",
      "ENFP     7\n",
      "ISFP     3\n",
      "ISTP     3\n",
      "ISFJ     2\n",
      "ENFJ     2\n",
      "ISTJ     2\n",
      "ENTJ     2\n",
      "ESTP     1\n",
      "ESFP     1\n",
      "Name: type, dtype: int64\n"
     ]
    }
   ],
   "source": [
    "df = pd.read_csv(os.path.join(\"..\", \"data\", \"mbti_1.csv\"))\n",
    "\n",
    "# splitting data into training and holdout dataset\n",
    "personality_data, df_holdout = train_test_split(\n",
    "    df, random_state=42, test_size=0.01, stratify=df[\"type\"]\n",
    ")\n",
    "\n",
    "# saving the training and holdout datasets\n",
    "personality_data.to_csv(os.path.join(\"..\", \"data\", \"personality_data.csv\"), index=False)\n",
    "df_holdout.to_csv(os.path.join(\"..\", \"data\", \"df_holdout.csv\"), index=False)\n",
    "\n",
    "# checking the value counts\n",
    "print(personality_data[\"type\"].value_counts())\n",
    "print(df_holdout[\"type\"].value_counts())"
   ]
  },
  {
   "cell_type": "code",
   "execution_count": 3,
   "metadata": {},
   "outputs": [],
   "source": [
    "# Personality data used for training and testing the model\n",
    "personality_data = pd.read_csv(os.path.join(\"..\", \"data\", \"personality_data.csv\"))"
   ]
  },
  {
   "cell_type": "code",
   "execution_count": 4,
   "metadata": {},
   "outputs": [
    {
     "data": {
      "text/html": [
       "<div>\n",
       "<style scoped>\n",
       "    .dataframe tbody tr th:only-of-type {\n",
       "        vertical-align: middle;\n",
       "    }\n",
       "\n",
       "    .dataframe tbody tr th {\n",
       "        vertical-align: top;\n",
       "    }\n",
       "\n",
       "    .dataframe thead th {\n",
       "        text-align: right;\n",
       "    }\n",
       "</style>\n",
       "<table border=\"1\" class=\"dataframe\">\n",
       "  <thead>\n",
       "    <tr style=\"text-align: right;\">\n",
       "      <th></th>\n",
       "      <th>type</th>\n",
       "      <th>posts</th>\n",
       "    </tr>\n",
       "  </thead>\n",
       "  <tbody>\n",
       "    <tr>\n",
       "      <th>0</th>\n",
       "      <td>INFJ</td>\n",
       "      <td>'When asked of the things you wish you did ear...</td>\n",
       "    </tr>\n",
       "    <tr>\n",
       "      <th>1</th>\n",
       "      <td>INFJ</td>\n",
       "      <td>'I love both and they are equally important to...</td>\n",
       "    </tr>\n",
       "    <tr>\n",
       "      <th>2</th>\n",
       "      <td>INFJ</td>\n",
       "      <td>Really? You think implying that everyone who i...</td>\n",
       "    </tr>\n",
       "    <tr>\n",
       "      <th>3</th>\n",
       "      <td>ENFJ</td>\n",
       "      <td>'Love is a crazy thing.   Se is our best form ...</td>\n",
       "    </tr>\n",
       "    <tr>\n",
       "      <th>4</th>\n",
       "      <td>INTP</td>\n",
       "      <td>'I am a physics undergrad with a computation e...</td>\n",
       "    </tr>\n",
       "  </tbody>\n",
       "</table>\n",
       "</div>"
      ],
      "text/plain": [
       "   type                                              posts\n",
       "0  INFJ  'When asked of the things you wish you did ear...\n",
       "1  INFJ  'I love both and they are equally important to...\n",
       "2  INFJ  Really? You think implying that everyone who i...\n",
       "3  ENFJ  'Love is a crazy thing.   Se is our best form ...\n",
       "4  INTP  'I am a physics undergrad with a computation e..."
      ]
     },
     "execution_count": 4,
     "metadata": {},
     "output_type": "execute_result"
    }
   ],
   "source": [
    "# looking at the top 5 rows of the dataset\n",
    "personality_data.head()"
   ]
  },
  {
   "cell_type": "code",
   "execution_count": 5,
   "metadata": {},
   "outputs": [
    {
     "data": {
      "text/plain": [
       "(8588, 2)"
      ]
     },
     "execution_count": 5,
     "metadata": {},
     "output_type": "execute_result"
    }
   ],
   "source": [
    "# checking the number of rows and columns\n",
    "personality_data.shape"
   ]
  },
  {
   "cell_type": "code",
   "execution_count": 6,
   "metadata": {},
   "outputs": [
    {
     "data": {
      "text/plain": [
       "type     0\n",
       "posts    0\n",
       "dtype: int64"
      ]
     },
     "execution_count": 6,
     "metadata": {},
     "output_type": "execute_result"
    }
   ],
   "source": [
    "personality_data.isnull().sum()"
   ]
  },
  {
   "cell_type": "code",
   "execution_count": 7,
   "metadata": {},
   "outputs": [
    {
     "data": {
      "text/plain": [
       "INFP    1814\n",
       "INFJ    1455\n",
       "INTP    1291\n",
       "INTJ    1080\n",
       "ENTP     678\n",
       "ENFP     668\n",
       "ISTP     334\n",
       "ISFP     268\n",
       "ENTJ     229\n",
       "ISTJ     203\n",
       "ENFJ     188\n",
       "ISFJ     164\n",
       "ESTP      88\n",
       "ESFP      47\n",
       "ESFJ      42\n",
       "ESTJ      39\n",
       "Name: type, dtype: int64"
      ]
     },
     "execution_count": 7,
     "metadata": {},
     "output_type": "execute_result"
    }
   ],
   "source": [
    "# checking number of records for each of the 16 personality types\n",
    "personality_data[\"type\"].value_counts()"
   ]
  },
  {
   "cell_type": "code",
   "execution_count": 8,
   "metadata": {},
   "outputs": [
    {
     "data": {
      "image/png": "[encoded data removed]",
      "text/plain": [
       "<Figure size 432x288 with 1 Axes>"
      ]
     },
     "metadata": {
      "needs_background": "light"
     },
     "output_type": "display_data"
    }
   ],
   "source": [
    "# visual\n",
    "personality_data[\"type\"].value_counts().plot(kind=\"bar\", color=\"#61BED6\")\n",
    "plt.show()"
   ]
  },
  {
   "cell_type": "code",
   "execution_count": 9,
   "metadata": {},
   "outputs": [
    {
     "data": {
      "text/html": [
       "<div>\n",
       "<style scoped>\n",
       "    .dataframe tbody tr th:only-of-type {\n",
       "        vertical-align: middle;\n",
       "    }\n",
       "\n",
       "    .dataframe tbody tr th {\n",
       "        vertical-align: top;\n",
       "    }\n",
       "\n",
       "    .dataframe thead th {\n",
       "        text-align: right;\n",
       "    }\n",
       "</style>\n",
       "<table border=\"1\" class=\"dataframe\">\n",
       "  <thead>\n",
       "    <tr style=\"text-align: right;\">\n",
       "      <th></th>\n",
       "      <th>type</th>\n",
       "      <th>is_Extrovert</th>\n",
       "      <th>is_Sensing</th>\n",
       "      <th>is_Thinking</th>\n",
       "      <th>is_Judging</th>\n",
       "      <th>posts</th>\n",
       "    </tr>\n",
       "  </thead>\n",
       "  <tbody>\n",
       "    <tr>\n",
       "      <th>0</th>\n",
       "      <td>INFJ</td>\n",
       "      <td>0</td>\n",
       "      <td>0</td>\n",
       "      <td>0</td>\n",
       "      <td>1</td>\n",
       "      <td>'When asked of the things you wish you did ear...</td>\n",
       "    </tr>\n",
       "    <tr>\n",
       "      <th>1</th>\n",
       "      <td>INFJ</td>\n",
       "      <td>0</td>\n",
       "      <td>0</td>\n",
       "      <td>0</td>\n",
       "      <td>1</td>\n",
       "      <td>'I love both and they are equally important to...</td>\n",
       "    </tr>\n",
       "    <tr>\n",
       "      <th>2</th>\n",
       "      <td>INFJ</td>\n",
       "      <td>0</td>\n",
       "      <td>0</td>\n",
       "      <td>0</td>\n",
       "      <td>1</td>\n",
       "      <td>Really? You think implying that everyone who i...</td>\n",
       "    </tr>\n",
       "    <tr>\n",
       "      <th>3</th>\n",
       "      <td>ENFJ</td>\n",
       "      <td>1</td>\n",
       "      <td>0</td>\n",
       "      <td>0</td>\n",
       "      <td>1</td>\n",
       "      <td>'Love is a crazy thing.   Se is our best form ...</td>\n",
       "    </tr>\n",
       "    <tr>\n",
       "      <th>4</th>\n",
       "      <td>INTP</td>\n",
       "      <td>0</td>\n",
       "      <td>0</td>\n",
       "      <td>1</td>\n",
       "      <td>0</td>\n",
       "      <td>'I am a physics undergrad with a computation e...</td>\n",
       "    </tr>\n",
       "  </tbody>\n",
       "</table>\n",
       "</div>"
      ],
      "text/plain": [
       "   type  is_Extrovert  is_Sensing  is_Thinking  is_Judging  \\\n",
       "0  INFJ             0           0            0           1   \n",
       "1  INFJ             0           0            0           1   \n",
       "2  INFJ             0           0            0           1   \n",
       "3  ENFJ             1           0            0           1   \n",
       "4  INTP             0           0            1           0   \n",
       "\n",
       "                                               posts  \n",
       "0  'When asked of the things you wish you did ear...  \n",
       "1  'I love both and they are equally important to...  \n",
       "2  Really? You think implying that everyone who i...  \n",
       "3  'Love is a crazy thing.   Se is our best form ...  \n",
       "4  'I am a physics undergrad with a computation e...  "
      ]
     },
     "execution_count": 9,
     "metadata": {},
     "output_type": "execute_result"
    }
   ],
   "source": [
    "personality_data[\"is_Extrovert\"] = personality_data[\"type\"].apply(\n",
    "    lambda x: 1 if x[0] == \"E\" else 0\n",
    ")\n",
    "personality_data[\"is_Sensing\"] = personality_data[\"type\"].apply(\n",
    "    lambda x: 1 if x[1] == \"S\" else 0\n",
    ")\n",
    "personality_data[\"is_Thinking\"] = personality_data[\"type\"].apply(\n",
    "    lambda x: 1 if x[2] == \"T\" else 0\n",
    ")\n",
    "personality_data[\"is_Judging\"] = personality_data[\"type\"].apply(\n",
    "    lambda x: 1 if x[3] == \"J\" else 0\n",
    ")\n",
    "\n",
    "# rearranging the dataframe columns\n",
    "personality_data = personality_data[\n",
    "    [\"type\", \"is_Extrovert\", \"is_Sensing\", \"is_Thinking\", \"is_Judging\", \"posts\"]\n",
    "]\n",
    "personality_data.head()"
   ]
  },
  {
   "cell_type": "code",
   "execution_count": 10,
   "metadata": {},
   "outputs": [],
   "source": [
    "# checking individual counts\n",
    "introvert_count = personality_data[\"is_Extrovert\"].value_counts()[0]\n",
    "extrovert_count = personality_data[\"is_Extrovert\"].value_counts()[1]\n",
    "\n",
    "intuition_count = personality_data[\"is_Sensing\"].value_counts()[0]\n",
    "sensing_count = personality_data[\"is_Sensing\"].value_counts()[1]\n",
    "\n",
    "feeling_count = personality_data[\"is_Thinking\"].value_counts()[0]\n",
    "thinking_count = personality_data[\"is_Thinking\"].value_counts()[1]\n",
    "\n",
    "perceiving_count = personality_data[\"is_Judging\"].value_counts()[0]\n",
    "judging_count = personality_data[\"is_Judging\"].value_counts()[1]"
   ]
  },
  {
   "cell_type": "code",
   "execution_count": 11,
   "metadata": {},
   "outputs": [
    {
     "name": "stdout",
     "output_type": "stream",
     "text": [
      "Introvert Count: 6609\n",
      "Extrovert Count: 1979\n",
      "Intuition Count: 7403\n",
      "Sensing Count: 1185\n",
      "Feeling Count: 4646\n",
      "Thinking Count: 3942\n",
      "Perceiving Count: 5188\n",
      "Judging Count: 3400\n"
     ]
    }
   ],
   "source": [
    "# printing all the counts\n",
    "print(f\"Introvert Count: {introvert_count}\")\n",
    "print(f\"Extrovert Count: {extrovert_count}\")\n",
    "print(f\"Intuition Count: {intuition_count}\")\n",
    "print(f\"Sensing Count: {sensing_count}\")\n",
    "print(f\"Feeling Count: {feeling_count}\")\n",
    "print(f\"Thinking Count: {thinking_count}\")\n",
    "print(f\"Perceiving Count: {perceiving_count}\")\n",
    "print(f\"Judging Count: {judging_count}\")"
   ]
  },
  {
   "cell_type": "code",
   "execution_count": 12,
   "metadata": {},
   "outputs": [
    {
     "data": {
      "image/png": "[encoded data removed]",
      "text/plain": [
       "<Figure size 432x288 with 1 Axes>"
      ]
     },
     "metadata": {
      "needs_background": "light"
     },
     "output_type": "display_data"
    }
   ],
   "source": [
    "sns.countplot(\n",
    "    x=\"variable\",\n",
    "    hue=\"value\",\n",
    "    data=pd.melt(\n",
    "        personality_data[[\"is_Extrovert\", \"is_Sensing\", \"is_Thinking\", \"is_Judging\"]]\n",
    "    ),\n",
    "    palette=[\"#61BED6\", \"#A386B4\"],\n",
    ")\n",
    "\n",
    "plt.show()"
   ]
  },
  {
   "cell_type": "code",
   "execution_count": 13,
   "metadata": {},
   "outputs": [
    {
     "data": {
      "text/html": [
       "<style  type=\"text/css\" >\n",
       "#T_ef47c4de_97f1_11eb_a876_3ca067a70342row0_col0,#T_ef47c4de_97f1_11eb_a876_3ca067a70342row1_col1,#T_ef47c4de_97f1_11eb_a876_3ca067a70342row2_col2,#T_ef47c4de_97f1_11eb_a876_3ca067a70342row3_col3{\n",
       "            background-color:  #08306b;\n",
       "            color:  #f1f1f1;\n",
       "        }#T_ef47c4de_97f1_11eb_a876_3ca067a70342row0_col1,#T_ef47c4de_97f1_11eb_a876_3ca067a70342row0_col3,#T_ef47c4de_97f1_11eb_a876_3ca067a70342row3_col0,#T_ef47c4de_97f1_11eb_a876_3ca067a70342row3_col2{\n",
       "            background-color:  #f7fbff;\n",
       "            color:  #000000;\n",
       "        }#T_ef47c4de_97f1_11eb_a876_3ca067a70342row0_col2{\n",
       "            background-color:  #e9f2fa;\n",
       "            color:  #000000;\n",
       "        }#T_ef47c4de_97f1_11eb_a876_3ca067a70342row1_col0{\n",
       "            background-color:  #e3eef9;\n",
       "            color:  #000000;\n",
       "        }#T_ef47c4de_97f1_11eb_a876_3ca067a70342row1_col2{\n",
       "            background-color:  #e7f0fa;\n",
       "            color:  #000000;\n",
       "        }#T_ef47c4de_97f1_11eb_a876_3ca067a70342row1_col3{\n",
       "            background-color:  #deebf7;\n",
       "            color:  #000000;\n",
       "        }#T_ef47c4de_97f1_11eb_a876_3ca067a70342row2_col0{\n",
       "            background-color:  #d0e2f2;\n",
       "            color:  #000000;\n",
       "        }#T_ef47c4de_97f1_11eb_a876_3ca067a70342row2_col1{\n",
       "            background-color:  #dfebf7;\n",
       "            color:  #000000;\n",
       "        }#T_ef47c4de_97f1_11eb_a876_3ca067a70342row2_col3{\n",
       "            background-color:  #dceaf6;\n",
       "            color:  #000000;\n",
       "        }#T_ef47c4de_97f1_11eb_a876_3ca067a70342row3_col1{\n",
       "            background-color:  #f2f7fd;\n",
       "            color:  #000000;\n",
       "        }</style><table id=\"T_ef47c4de_97f1_11eb_a876_3ca067a70342\" ><thead>    <tr>        <th class=\"blank level0\" ></th>        <th class=\"col_heading level0 col0\" >is_Extrovert</th>        <th class=\"col_heading level0 col1\" >is_Sensing</th>        <th class=\"col_heading level0 col2\" >is_Thinking</th>        <th class=\"col_heading level0 col3\" >is_Judging</th>    </tr></thead><tbody>\n",
       "                <tr>\n",
       "                        <th id=\"T_ef47c4de_97f1_11eb_a876_3ca067a70342level0_row0\" class=\"row_heading level0 row0\" >is_Extrovert</th>\n",
       "                        <td id=\"T_ef47c4de_97f1_11eb_a876_3ca067a70342row0_col0\" class=\"data row0 col0\" >1.0000</td>\n",
       "                        <td id=\"T_ef47c4de_97f1_11eb_a876_3ca067a70342row0_col1\" class=\"data row0 col1\" >-0.0458</td>\n",
       "                        <td id=\"T_ef47c4de_97f1_11eb_a876_3ca067a70342row0_col2\" class=\"data row0 col2\" >0.0697</td>\n",
       "                        <td id=\"T_ef47c4de_97f1_11eb_a876_3ca067a70342row0_col3\" class=\"data row0 col3\" >-0.1614</td>\n",
       "            </tr>\n",
       "            <tr>\n",
       "                        <th id=\"T_ef47c4de_97f1_11eb_a876_3ca067a70342level0_row1\" class=\"row_heading level0 row1\" >is_Sensing</th>\n",
       "                        <td id=\"T_ef47c4de_97f1_11eb_a876_3ca067a70342row1_col0\" class=\"data row1 col0\" >-0.0458</td>\n",
       "                        <td id=\"T_ef47c4de_97f1_11eb_a876_3ca067a70342row1_col1\" class=\"data row1 col1\" >1.0000</td>\n",
       "                        <td id=\"T_ef47c4de_97f1_11eb_a876_3ca067a70342row1_col2\" class=\"data row1 col2\" >0.0814</td>\n",
       "                        <td id=\"T_ef47c4de_97f1_11eb_a876_3ca067a70342row1_col3\" class=\"data row1 col3\" >-0.0146</td>\n",
       "            </tr>\n",
       "            <tr>\n",
       "                        <th id=\"T_ef47c4de_97f1_11eb_a876_3ca067a70342level0_row2\" class=\"row_heading level0 row2\" >is_Thinking</th>\n",
       "                        <td id=\"T_ef47c4de_97f1_11eb_a876_3ca067a70342row2_col0\" class=\"data row2 col0\" >0.0697</td>\n",
       "                        <td id=\"T_ef47c4de_97f1_11eb_a876_3ca067a70342row2_col1\" class=\"data row2 col1\" >0.0814</td>\n",
       "                        <td id=\"T_ef47c4de_97f1_11eb_a876_3ca067a70342row2_col2\" class=\"data row2 col2\" >1.0000</td>\n",
       "                        <td id=\"T_ef47c4de_97f1_11eb_a876_3ca067a70342row2_col3\" class=\"data row2 col3\" >-0.0046</td>\n",
       "            </tr>\n",
       "            <tr>\n",
       "                        <th id=\"T_ef47c4de_97f1_11eb_a876_3ca067a70342level0_row3\" class=\"row_heading level0 row3\" >is_Judging</th>\n",
       "                        <td id=\"T_ef47c4de_97f1_11eb_a876_3ca067a70342row3_col0\" class=\"data row3 col0\" >-0.1614</td>\n",
       "                        <td id=\"T_ef47c4de_97f1_11eb_a876_3ca067a70342row3_col1\" class=\"data row3 col1\" >-0.0146</td>\n",
       "                        <td id=\"T_ef47c4de_97f1_11eb_a876_3ca067a70342row3_col2\" class=\"data row3 col2\" >-0.0046</td>\n",
       "                        <td id=\"T_ef47c4de_97f1_11eb_a876_3ca067a70342row3_col3\" class=\"data row3 col3\" >1.0000</td>\n",
       "            </tr>\n",
       "    </tbody></table>"
      ],
      "text/plain": [
       "<pandas.io.formats.style.Styler at 0x20a95ecce80>"
      ]
     },
     "execution_count": 13,
     "metadata": {},
     "output_type": "execute_result"
    }
   ],
   "source": [
    "corr = personality_data[\n",
    "    [\"is_Extrovert\", \"is_Sensing\", \"is_Thinking\", \"is_Judging\"]\n",
    "].corr()\n",
    "corr.style.background_gradient(cmap=\"Blues\").set_precision(4)"
   ]
  },
  {
   "cell_type": "code",
   "execution_count": 14,
   "metadata": {},
   "outputs": [],
   "source": [
    "# converting posts into lower case\n",
    "personality_data[\"clean_posts\"] = personality_data[\"posts\"].str.lower()\n",
    "\n",
    "# replacing ||| with space\n",
    "personality_data[\"clean_posts\"] = personality_data[\"clean_posts\"].str.replace(\n",
    "    re.compile(r\"\\|\\|\\|\"), \" \"\n",
    ")\n",
    "\n",
    "personality_data[\"clean_posts\"] = personality_data[\"clean_posts\"].str.replace(\n",
    "    re.compile(r\"https?:\\/\\/(www)?.?([A-Za-z_0-9-]+)([\\S])*\"), \"\"\n",
    ")\n",
    "\n",
    "# dropping emails\n",
    "personality_data[\"clean_posts\"] = personality_data[\"clean_posts\"].str.replace(\n",
    "    re.compile(r\"\\S+@\\S+\"), \"\"\n",
    ")\n",
    "\n",
    "# dropping punctuations\n",
    "personality_data[\"clean_posts\"] = personality_data[\"clean_posts\"].str.replace(\n",
    "    re.compile(r\"[^a-z\\s]\"), \" \"\n",
    ")\n",
    "\n",
    "# dropping MBTIs mentioned in the posts. There are quite a few mention of these types in these posts.\n",
    "mbti = personality_data[\"type\"].unique()\n",
    "for type_word in mbti:\n",
    "    personality_data[\"clean_posts\"] = personality_data[\"clean_posts\"].str.replace(\n",
    "        type_word.lower(), \"\"\n",
    "    )"
   ]
  },
  {
   "cell_type": "code",
   "execution_count": 15,
   "metadata": {},
   "outputs": [
    {
     "data": {
      "text/html": [
       "<div>\n",
       "<style scoped>\n",
       "    .dataframe tbody tr th:only-of-type {\n",
       "        vertical-align: middle;\n",
       "    }\n",
       "\n",
       "    .dataframe tbody tr th {\n",
       "        vertical-align: top;\n",
       "    }\n",
       "\n",
       "    .dataframe thead th {\n",
       "        text-align: right;\n",
       "    }\n",
       "</style>\n",
       "<table border=\"1\" class=\"dataframe\">\n",
       "  <thead>\n",
       "    <tr style=\"text-align: right;\">\n",
       "      <th></th>\n",
       "      <th>type</th>\n",
       "      <th>is_Extrovert</th>\n",
       "      <th>is_Sensing</th>\n",
       "      <th>is_Thinking</th>\n",
       "      <th>is_Judging</th>\n",
       "      <th>posts</th>\n",
       "      <th>clean_posts</th>\n",
       "    </tr>\n",
       "  </thead>\n",
       "  <tbody>\n",
       "    <tr>\n",
       "      <th>0</th>\n",
       "      <td>INFJ</td>\n",
       "      <td>0</td>\n",
       "      <td>0</td>\n",
       "      <td>0</td>\n",
       "      <td>1</td>\n",
       "      <td>'When asked of the things you wish you did ear...</td>\n",
       "      <td>when asked of the things you wish you did ear...</td>\n",
       "    </tr>\n",
       "    <tr>\n",
       "      <th>1</th>\n",
       "      <td>INFJ</td>\n",
       "      <td>0</td>\n",
       "      <td>0</td>\n",
       "      <td>0</td>\n",
       "      <td>1</td>\n",
       "      <td>'I love both and they are equally important to...</td>\n",
       "      <td>i love both and they are equally important to...</td>\n",
       "    </tr>\n",
       "    <tr>\n",
       "      <th>2</th>\n",
       "      <td>INFJ</td>\n",
       "      <td>0</td>\n",
       "      <td>0</td>\n",
       "      <td>0</td>\n",
       "      <td>1</td>\n",
       "      <td>Really? You think implying that everyone who i...</td>\n",
       "      <td>really  you think implying that everyone who i...</td>\n",
       "    </tr>\n",
       "    <tr>\n",
       "      <th>3</th>\n",
       "      <td>ENFJ</td>\n",
       "      <td>1</td>\n",
       "      <td>0</td>\n",
       "      <td>0</td>\n",
       "      <td>1</td>\n",
       "      <td>'Love is a crazy thing.   Se is our best form ...</td>\n",
       "      <td>love is a crazy thing    se is our best form ...</td>\n",
       "    </tr>\n",
       "    <tr>\n",
       "      <th>4</th>\n",
       "      <td>INTP</td>\n",
       "      <td>0</td>\n",
       "      <td>0</td>\n",
       "      <td>1</td>\n",
       "      <td>0</td>\n",
       "      <td>'I am a physics undergrad with a computation e...</td>\n",
       "      <td>i am a physics undergrad with a computation e...</td>\n",
       "    </tr>\n",
       "  </tbody>\n",
       "</table>\n",
       "</div>"
      ],
      "text/plain": [
       "   type  is_Extrovert  is_Sensing  is_Thinking  is_Judging  \\\n",
       "0  INFJ             0           0            0           1   \n",
       "1  INFJ             0           0            0           1   \n",
       "2  INFJ             0           0            0           1   \n",
       "3  ENFJ             1           0            0           1   \n",
       "4  INTP             0           0            1           0   \n",
       "\n",
       "                                               posts  \\\n",
       "0  'When asked of the things you wish you did ear...   \n",
       "1  'I love both and they are equally important to...   \n",
       "2  Really? You think implying that everyone who i...   \n",
       "3  'Love is a crazy thing.   Se is our best form ...   \n",
       "4  'I am a physics undergrad with a computation e...   \n",
       "\n",
       "                                         clean_posts  \n",
       "0   when asked of the things you wish you did ear...  \n",
       "1   i love both and they are equally important to...  \n",
       "2  really  you think implying that everyone who i...  \n",
       "3   love is a crazy thing    se is our best form ...  \n",
       "4   i am a physics undergrad with a computation e...  "
      ]
     },
     "execution_count": 15,
     "metadata": {},
     "output_type": "execute_result"
    }
   ],
   "source": [
    "personality_data.head()\n"
   ]
  },
  {
   "cell_type": "code",
   "execution_count": 16,
   "metadata": {},
   "outputs": [
    {
     "name": "stdout",
     "output_type": "stream",
     "text": [
      "Lemmitizing Time: 4884.36203956604 seconds\n"
     ]
    }
   ],
   "source": [
    "\n",
    "# lemmitizing (excluding stop words in this step)\n",
    "\n",
    "t = time.time()\n",
    "\n",
    "lemmatizer = WordNetLemmatizer()\n",
    "\n",
    "personality_data[\"clean_posts\"] = personality_data[\"clean_posts\"].apply(\n",
    "    lambda x: \" \".join(\n",
    "        [\n",
    "            lemmatizer.lemmatize(word)\n",
    "            for word in x.split(\" \")\n",
    "            if word not in stopwords.words(\"english\")\n",
    "        ]\n",
    "    )\n",
    ")\n",
    "\n",
    "print(f\"Lemmitizing Time: {time.time() - t} seconds\")"
   ]
  },
  {
   "cell_type": "code",
   "execution_count": null,
   "metadata": {},
   "outputs": [],
   "source": [
    "personality_data[\"clean_posts\"] = personality_data[\"clean_posts\"].str.replace(\n",
    "    re.compile(r\"\\b\\w{1,2}\\b\"), \"\"\n",
    ")"
   ]
  },
  {
   "cell_type": "code",
   "execution_count": 17,
   "metadata": {},
   "outputs": [
    {
     "data": {
      "text/html": [
       "<div>\n",
       "<style scoped>\n",
       "    .dataframe tbody tr th:only-of-type {\n",
       "        vertical-align: middle;\n",
       "    }\n",
       "\n",
       "    .dataframe tbody tr th {\n",
       "        vertical-align: top;\n",
       "    }\n",
       "\n",
       "    .dataframe thead th {\n",
       "        text-align: right;\n",
       "    }\n",
       "</style>\n",
       "<table border=\"1\" class=\"dataframe\">\n",
       "  <thead>\n",
       "    <tr style=\"text-align: right;\">\n",
       "      <th></th>\n",
       "      <th>type</th>\n",
       "      <th>is_Extrovert</th>\n",
       "      <th>is_Sensing</th>\n",
       "      <th>is_Thinking</th>\n",
       "      <th>is_Judging</th>\n",
       "      <th>posts</th>\n",
       "      <th>clean_posts</th>\n",
       "    </tr>\n",
       "  </thead>\n",
       "  <tbody>\n",
       "    <tr>\n",
       "      <th>0</th>\n",
       "      <td>INFJ</td>\n",
       "      <td>0</td>\n",
       "      <td>0</td>\n",
       "      <td>0</td>\n",
       "      <td>1</td>\n",
       "      <td>'When asked of the things you wish you did ear...</td>\n",
       "      <td>asked thing wish earlier       find answering...</td>\n",
       "    </tr>\n",
       "    <tr>\n",
       "      <th>1</th>\n",
       "      <td>INFJ</td>\n",
       "      <td>0</td>\n",
       "      <td>0</td>\n",
       "      <td>0</td>\n",
       "      <td>1</td>\n",
       "      <td>'I love both and they are equally important to...</td>\n",
       "      <td>love equally important  music window soul  in...</td>\n",
       "    </tr>\n",
       "    <tr>\n",
       "      <th>2</th>\n",
       "      <td>INFJ</td>\n",
       "      <td>0</td>\n",
       "      <td>0</td>\n",
       "      <td>0</td>\n",
       "      <td>1</td>\n",
       "      <td>Really? You think implying that everyone who i...</td>\n",
       "      <td>really  think implying everyone entrepreneur s...</td>\n",
       "    </tr>\n",
       "    <tr>\n",
       "      <th>3</th>\n",
       "      <td>ENFJ</td>\n",
       "      <td>1</td>\n",
       "      <td>0</td>\n",
       "      <td>0</td>\n",
       "      <td>1</td>\n",
       "      <td>'Love is a crazy thing.   Se is our best form ...</td>\n",
       "      <td>love crazy thing    se best form communicatio...</td>\n",
       "    </tr>\n",
       "    <tr>\n",
       "      <th>4</th>\n",
       "      <td>INTP</td>\n",
       "      <td>0</td>\n",
       "      <td>0</td>\n",
       "      <td>1</td>\n",
       "      <td>0</td>\n",
       "      <td>'I am a physics undergrad with a computation e...</td>\n",
       "      <td>physic undergrad computation emphasis  learni...</td>\n",
       "    </tr>\n",
       "  </tbody>\n",
       "</table>\n",
       "</div>"
      ],
      "text/plain": [
       "   type  is_Extrovert  is_Sensing  is_Thinking  is_Judging  \\\n",
       "0  INFJ             0           0            0           1   \n",
       "1  INFJ             0           0            0           1   \n",
       "2  INFJ             0           0            0           1   \n",
       "3  ENFJ             1           0            0           1   \n",
       "4  INTP             0           0            1           0   \n",
       "\n",
       "                                               posts  \\\n",
       "0  'When asked of the things you wish you did ear...   \n",
       "1  'I love both and they are equally important to...   \n",
       "2  Really? You think implying that everyone who i...   \n",
       "3  'Love is a crazy thing.   Se is our best form ...   \n",
       "4  'I am a physics undergrad with a computation e...   \n",
       "\n",
       "                                         clean_posts  \n",
       "0   asked thing wish earlier       find answering...  \n",
       "1   love equally important  music window soul  in...  \n",
       "2  really  think implying everyone entrepreneur s...  \n",
       "3   love crazy thing    se best form communicatio...  \n",
       "4   physic undergrad computation emphasis  learni...  "
      ]
     },
     "execution_count": 17,
     "metadata": {},
     "output_type": "execute_result"
    }
   ],
   "source": [
    "# checking the cleaned and lemmitized data\n",
    "personality_data.head()"
   ]
  },
  {
   "cell_type": "code",
   "execution_count": 18,
   "metadata": {},
   "outputs": [
    {
     "data": {
      "text/plain": [
       "(8588, 7)"
      ]
     },
     "execution_count": 18,
     "metadata": {},
     "output_type": "execute_result"
    }
   ],
   "source": [
    "personality_data.shape"
   ]
  },
  {
   "cell_type": "code",
   "execution_count": 19,
   "metadata": {},
   "outputs": [],
   "source": [
    "# lemmitizing took long. So saving the clean and lemmitized file to save time in further processing.\n",
    "personality_data.to_csv(os.path.join(\"..\", \"data\", \"clean_data_1.csv\"), index=False)"
   ]
  },
  {
   "cell_type": "code",
   "execution_count": null,
   "metadata": {},
   "outputs": [],
   "source": []
  }
 ],
 "metadata": {
  "kernelspec": {
   "display_name": "Python 3",
   "language": "python",
   "name": "python3"
  },
  "language_info": {
   "codemirror_mode": {
    "name": "ipython",
    "version": 3
   },
   "file_extension": ".py",
   "mimetype": "text/x-python",
   "name": "python",
   "nbconvert_exporter": "python",
   "pygments_lexer": "ipython3",
   "version": "3.8.5"
  }
 },
 "nbformat": 4,
 "nbformat_minor": 4
}
